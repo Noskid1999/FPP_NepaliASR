{
 "cells": [
  {
   "cell_type": "code",
   "execution_count": 1,
   "id": "fd160b53-41f8-48af-ae47-2cc3cfca7dc6",
   "metadata": {},
   "outputs": [],
   "source": [
    "import re\n",
    "import pandas as pd\n",
    "\n",
    "\n",
    "colnames = ['file', 'phrase']\n",
    "df = pd.read_csv('content/ne_np_female/line_index.tsv', sep='\\t', header=None, names=colnames)\n",
    "df['path'] = 'content/ne_np_female/wavs/' + df['file'].str.strip() + \".wav\""
   ]
  },
  {
   "cell_type": "code",
   "execution_count": 2,
   "id": "e323594b-4c22-4bca-b744-cc09a375da9b",
   "metadata": {},
   "outputs": [
    {
     "data": {
      "text/html": [
       "<div>\n",
       "<style scoped>\n",
       "    .dataframe tbody tr th:only-of-type {\n",
       "        vertical-align: middle;\n",
       "    }\n",
       "\n",
       "    .dataframe tbody tr th {\n",
       "        vertical-align: top;\n",
       "    }\n",
       "\n",
       "    .dataframe thead th {\n",
       "        text-align: right;\n",
       "    }\n",
       "</style>\n",
       "<table border=\"1\" class=\"dataframe\">\n",
       "  <thead>\n",
       "    <tr style=\"text-align: right;\">\n",
       "      <th></th>\n",
       "      <th>file</th>\n",
       "      <th>phrase</th>\n",
       "      <th>path</th>\n",
       "    </tr>\n",
       "  </thead>\n",
       "  <tbody>\n",
       "    <tr>\n",
       "      <th>0</th>\n",
       "      <td>nep_0258_0119737288</td>\n",
       "      <td>दीपा धामीको जन्म सुदूरपश्चिम नेपालको बझाङ जिल्...</td>\n",
       "      <td>content/ne_np_female/wavs/nep_0258_0119737288.wav</td>\n",
       "    </tr>\n",
       "    <tr>\n",
       "      <th>1</th>\n",
       "      <td>nep_0258_0461984530</td>\n",
       "      <td>डिग्रा देवीको जन्म सुदूरपश्चिम नेपालको बझाङ जि...</td>\n",
       "      <td>content/ne_np_female/wavs/nep_0258_0461984530.wav</td>\n",
       "    </tr>\n",
       "    <tr>\n",
       "      <th>2</th>\n",
       "      <td>nep_0258_0576399736</td>\n",
       "      <td>टेकबहादुर ऐरको जन्म सुदूरपश्चिम नेपालको डडेलधु...</td>\n",
       "      <td>content/ne_np_female/wavs/nep_0258_0576399736.wav</td>\n",
       "    </tr>\n",
       "    <tr>\n",
       "      <th>3</th>\n",
       "      <td>nep_0258_0707220145</td>\n",
       "      <td>सुमन शेखरमानन्धर नेपालको कृषि अर्थविद् तथा गाय...</td>\n",
       "      <td>content/ne_np_female/wavs/nep_0258_0707220145.wav</td>\n",
       "    </tr>\n",
       "    <tr>\n",
       "      <th>4</th>\n",
       "      <td>nep_0258_0838627393</td>\n",
       "      <td>आधिकारिक रूपमा पहिलो नेपाली चलचित्र नायक शिव श...</td>\n",
       "      <td>content/ne_np_female/wavs/nep_0258_0838627393.wav</td>\n",
       "    </tr>\n",
       "    <tr>\n",
       "      <th>...</th>\n",
       "      <td>...</td>\n",
       "      <td>...</td>\n",
       "      <td>...</td>\n",
       "    </tr>\n",
       "    <tr>\n",
       "      <th>2059</th>\n",
       "      <td>nep_9407_9451979543</td>\n",
       "      <td>यहाँका अधिकांश जनता कृषिमै आधारित छन्</td>\n",
       "      <td>content/ne_np_female/wavs/nep_9407_9451979543.wav</td>\n",
       "    </tr>\n",
       "    <tr>\n",
       "      <th>2060</th>\n",
       "      <td>nep_9407_9558473002</td>\n",
       "      <td>भीमसेनले किच्चकको बध गरे रगत पखाल्न उनले हानेक...</td>\n",
       "      <td>content/ne_np_female/wavs/nep_9407_9558473002.wav</td>\n",
       "    </tr>\n",
       "    <tr>\n",
       "      <th>2061</th>\n",
       "      <td>nep_9407_9632964143</td>\n",
       "      <td>यो पत्रिकाको प्रकाशक लालचन्द्र राजभण्डारी हो</td>\n",
       "      <td>content/ne_np_female/wavs/nep_9407_9632964143.wav</td>\n",
       "    </tr>\n",
       "    <tr>\n",
       "      <th>2062</th>\n",
       "      <td>nep_9407_9646005575</td>\n",
       "      <td>कालिङ्पोङमा धेरै राम्रा रेस्टुरेन्ट छन्</td>\n",
       "      <td>content/ne_np_female/wavs/nep_9407_9646005575.wav</td>\n",
       "    </tr>\n",
       "    <tr>\n",
       "      <th>2063</th>\n",
       "      <td>nep_9407_9974252924</td>\n",
       "      <td>मेरो वर्गको समाजले मलाई संस्कार दिएको</td>\n",
       "      <td>content/ne_np_female/wavs/nep_9407_9974252924.wav</td>\n",
       "    </tr>\n",
       "  </tbody>\n",
       "</table>\n",
       "<p>2064 rows × 3 columns</p>\n",
       "</div>"
      ],
      "text/plain": [
       "                     file                                             phrase  \\\n",
       "0     nep_0258_0119737288  दीपा धामीको जन्म सुदूरपश्चिम नेपालको बझाङ जिल्...   \n",
       "1     nep_0258_0461984530  डिग्रा देवीको जन्म सुदूरपश्चिम नेपालको बझाङ जि...   \n",
       "2     nep_0258_0576399736  टेकबहादुर ऐरको जन्म सुदूरपश्चिम नेपालको डडेलधु...   \n",
       "3     nep_0258_0707220145  सुमन शेखरमानन्धर नेपालको कृषि अर्थविद् तथा गाय...   \n",
       "4     nep_0258_0838627393  आधिकारिक रूपमा पहिलो नेपाली चलचित्र नायक शिव श...   \n",
       "...                   ...                                                ...   \n",
       "2059  nep_9407_9451979543              यहाँका अधिकांश जनता कृषिमै आधारित छन्   \n",
       "2060  nep_9407_9558473002  भीमसेनले किच्चकको बध गरे रगत पखाल्न उनले हानेक...   \n",
       "2061  nep_9407_9632964143       यो पत्रिकाको प्रकाशक लालचन्द्र राजभण्डारी हो   \n",
       "2062  nep_9407_9646005575            कालिङ्पोङमा धेरै राम्रा रेस्टुरेन्ट छन्   \n",
       "2063  nep_9407_9974252924              मेरो वर्गको समाजले मलाई संस्कार दिएको   \n",
       "\n",
       "                                                   path  \n",
       "0     content/ne_np_female/wavs/nep_0258_0119737288.wav  \n",
       "1     content/ne_np_female/wavs/nep_0258_0461984530.wav  \n",
       "2     content/ne_np_female/wavs/nep_0258_0576399736.wav  \n",
       "3     content/ne_np_female/wavs/nep_0258_0707220145.wav  \n",
       "4     content/ne_np_female/wavs/nep_0258_0838627393.wav  \n",
       "...                                                 ...  \n",
       "2059  content/ne_np_female/wavs/nep_9407_9451979543.wav  \n",
       "2060  content/ne_np_female/wavs/nep_9407_9558473002.wav  \n",
       "2061  content/ne_np_female/wavs/nep_9407_9632964143.wav  \n",
       "2062  content/ne_np_female/wavs/nep_9407_9646005575.wav  \n",
       "2063  content/ne_np_female/wavs/nep_9407_9974252924.wav  \n",
       "\n",
       "[2064 rows x 3 columns]"
      ]
     },
     "execution_count": 2,
     "metadata": {},
     "output_type": "execute_result"
    }
   ],
   "source": [
    "df"
   ]
  },
  {
   "cell_type": "code",
   "execution_count": 3,
   "id": "af4bddc7-54f5-4ae2-9cc2-4d2816ec2c74",
   "metadata": {},
   "outputs": [],
   "source": [
    "from datasets import load_metric, Dataset"
   ]
  },
  {
   "cell_type": "code",
   "execution_count": 4,
   "id": "ee0bdd30-b565-4912-a69d-5ff3290a11c4",
   "metadata": {},
   "outputs": [],
   "source": [
    "req_dataset = Dataset.from_pandas(df)"
   ]
  },
  {
   "cell_type": "code",
   "execution_count": 5,
   "id": "c68c82ef-45ec-44fa-9726-632750c45fc2",
   "metadata": {},
   "outputs": [
    {
     "data": {
      "text/plain": [
       "Dataset({\n",
       "    features: ['file', 'phrase', 'path'],\n",
       "    num_rows: 2064\n",
       "})"
      ]
     },
     "execution_count": 5,
     "metadata": {},
     "output_type": "execute_result"
    }
   ],
   "source": [
    "req_dataset"
   ]
  },
  {
   "cell_type": "code",
   "execution_count": 6,
   "id": "6ff1eaa0-9fc0-4252-95ab-5218ea96d038",
   "metadata": {},
   "outputs": [
    {
     "name": "stderr",
     "output_type": "stream",
     "text": [
      "d:\\work\\asr\\transformer_test\\env\\lib\\site-packages\\torchaudio\\extension\\extension.py:13: UserWarning: torchaudio C++ extension is not available.\n",
      "  warnings.warn('torchaudio C++ extension is not available.')\n"
     ]
    }
   ],
   "source": [
    "import torchaudio\n",
    "\n",
    "resampler = torchaudio.transforms.Resample(48_000, 16_000)\n",
    "\n",
    "chars_to_ignore_regex = '[\\,\\?\\.\\!\\-\\;\\:\\\"\\।]'\n",
    "\n",
    "def speech_file_to_array_fn(batch):\n",
    "    batch[\"phrase\"] = re.sub(chars_to_ignore_regex, '', batch[\"phrase\"]).lower()\n",
    "    speech_array, sampling_rate = torchaudio.load(batch[\"path\"])\n",
    "    batch[\"speech\"] = resampler(speech_array).squeeze().numpy()\n",
    "\n",
    "    return batch"
   ]
  },
  {
   "cell_type": "code",
   "execution_count": 7,
   "id": "ee672ca4-f48f-4fc8-974f-6e3c9686045b",
   "metadata": {},
   "outputs": [
    {
     "data": {
      "application/vnd.jupyter.widget-view+json": {
       "model_id": "8e3b4d2a2bbd4db9a0e4758f9228fbb1",
       "version_major": 2,
       "version_minor": 0
      },
      "text/plain": [
       "HBox(children=(FloatProgress(value=0.0, max=2064.0), HTML(value='')))"
      ]
     },
     "metadata": {},
     "output_type": "display_data"
    },
    {
     "name": "stdout",
     "output_type": "stream",
     "text": [
      "\n"
     ]
    }
   ],
   "source": [
    "req_dataset = req_dataset.map(speech_file_to_array_fn)"
   ]
  },
  {
   "cell_type": "code",
   "execution_count": 8,
   "id": "d2612b8d-2d1c-4931-b979-6264b9aeee2e",
   "metadata": {},
   "outputs": [
    {
     "name": "stderr",
     "output_type": "stream",
     "text": [
      "Special tokens have been added in the vocabulary, make sure the associated word embeddings are fine-tuned or trained.\n"
     ]
    }
   ],
   "source": [
    "from transformers import Wav2Vec2ForCTC, Wav2Vec2Processor\n",
    "\n",
    "model = Wav2Vec2ForCTC.from_pretrained(\"./models/wav2vec2-xlsr-nepali\").to(\"cuda\")\n",
    "processor = Wav2Vec2Processor.from_pretrained(\"./models/wav2vec2-xlsr-nepali\")\n",
    "\n",
    "# model = Wav2Vec2ForCTC.from_pretrained(\"./content/audio-bee-trained-nepali\").to(\"cuda\")\n",
    "# processor = Wav2Vec2Processor.from_pretrained(\"./content/audio-bee-trained-nepali\")\n",
    "\n",
    "# model = Wav2Vec2ForCTC.from_pretrained(\"./content/wav2vec2-nepali-openslr-54_10000\").to(\"cuda\")\n",
    "# processor = Wav2Vec2Processor.from_pretrained(\"./content/wav2vec2-nepali-openslr-54_10000\")"
   ]
  },
  {
   "cell_type": "code",
   "execution_count": 9,
   "id": "7791cb9d-a491-4539-b136-d9c4158bc4be",
   "metadata": {},
   "outputs": [],
   "source": [
    "import torch\n",
    "def evaluate(batch):\n",
    "    inputs = processor(batch[\"speech\"], sampling_rate=16_000, return_tensors=\"pt\", padding=True)\n",
    "\n",
    "    with torch.no_grad():\n",
    "        logits = model(inputs.input_values.to(\"cuda\"), attention_mask=inputs.attention_mask.to(\"cuda\")).logits\n",
    "\n",
    "    pred_ids = torch.argmax(logits, dim=-1)\n",
    "    batch[\"pred_strings\"] = processor.batch_decode(pred_ids)[0]\n",
    "    return batch"
   ]
  },
  {
   "cell_type": "code",
   "execution_count": 10,
   "id": "62535b34-9c1e-46d2-8412-0f8b23e52717",
   "metadata": {
    "collapsed": true,
    "jupyter": {
     "outputs_hidden": true
    },
    "tags": []
   },
   "outputs": [
    {
     "data": {
      "text/plain": [
       "['accuracy',\n",
       " 'bertscore',\n",
       " 'bleu',\n",
       " 'bleurt',\n",
       " 'cer',\n",
       " 'comet',\n",
       " 'coval',\n",
       " 'cuad',\n",
       " 'f1',\n",
       " 'gleu',\n",
       " 'glue',\n",
       " 'indic_glue',\n",
       " 'matthews_correlation',\n",
       " 'meteor',\n",
       " 'pearsonr',\n",
       " 'precision',\n",
       " 'recall',\n",
       " 'rouge',\n",
       " 'sacrebleu',\n",
       " 'sari',\n",
       " 'seqeval',\n",
       " 'spearmanr',\n",
       " 'squad',\n",
       " 'squad_v2',\n",
       " 'super_glue',\n",
       " 'wer',\n",
       " 'xnli']"
      ]
     },
     "execution_count": 10,
     "metadata": {},
     "output_type": "execute_result"
    }
   ],
   "source": [
    "import datasets"
   ]
  },
  {
   "cell_type": "code",
   "execution_count": 11,
   "id": "e1f5d52c-dc80-4c0a-98c6-39aa4e74dfb8",
   "metadata": {},
   "outputs": [
    {
     "data": {
      "application/vnd.jupyter.widget-view+json": {
       "model_id": "504234a2e29f4bdbb14e4e1338ee5078",
       "version_major": 2,
       "version_minor": 0
      },
      "text/plain": [
       "HBox(children=(FloatProgress(value=0.0, max=2064.0), HTML(value='')))"
      ]
     },
     "metadata": {},
     "output_type": "display_data"
    },
    {
     "name": "stdout",
     "output_type": "stream",
     "text": [
      "\n"
     ]
    }
   ],
   "source": [
    "result = req_dataset.map(evaluate)"
   ]
  },
  {
   "cell_type": "code",
   "execution_count": 12,
   "id": "60c258a1-f600-4743-87ce-9c2cf9063ca8",
   "metadata": {},
   "outputs": [],
   "source": [
    "result = result.remove_columns([\"speech\"])"
   ]
  },
  {
   "cell_type": "code",
   "execution_count": 13,
   "id": "fb9d58f2-20fc-4941-ba0b-6fc450c2c449",
   "metadata": {},
   "outputs": [],
   "source": [
    "output_df = result.to_pandas()"
   ]
  },
  {
   "cell_type": "code",
   "execution_count": 14,
   "id": "f4568c3f-b9f5-4e38-9f41-df302b87f184",
   "metadata": {},
   "outputs": [
    {
     "data": {
      "text/html": [
       "<div>\n",
       "<style scoped>\n",
       "    .dataframe tbody tr th:only-of-type {\n",
       "        vertical-align: middle;\n",
       "    }\n",
       "\n",
       "    .dataframe tbody tr th {\n",
       "        vertical-align: top;\n",
       "    }\n",
       "\n",
       "    .dataframe thead th {\n",
       "        text-align: right;\n",
       "    }\n",
       "</style>\n",
       "<table border=\"1\" class=\"dataframe\">\n",
       "  <thead>\n",
       "    <tr style=\"text-align: right;\">\n",
       "      <th></th>\n",
       "      <th>file</th>\n",
       "      <th>path</th>\n",
       "      <th>phrase</th>\n",
       "      <th>pred_strings</th>\n",
       "    </tr>\n",
       "  </thead>\n",
       "  <tbody>\n",
       "    <tr>\n",
       "      <th>0</th>\n",
       "      <td>nep_0258_0119737288</td>\n",
       "      <td>content/ne_np_female/wavs/nep_0258_0119737288.wav</td>\n",
       "      <td>दीपा धामीको जन्म सुदूरपश्चिम नेपालको बझाङ जिल्...</td>\n",
       "      <td>दीपा धामीको जन्म सुदूरपश्चिम नेपालको बझाङ जिल्...</td>\n",
       "    </tr>\n",
       "    <tr>\n",
       "      <th>1</th>\n",
       "      <td>nep_0258_0461984530</td>\n",
       "      <td>content/ne_np_female/wavs/nep_0258_0461984530.wav</td>\n",
       "      <td>डिग्रा देवीको जन्म सुदूरपश्चिम नेपालको बझाङ जि...</td>\n",
       "      <td>डिग्रा देवीको जन्म सुदूरपश्चिम नेपालको बझाङ जि...</td>\n",
       "    </tr>\n",
       "    <tr>\n",
       "      <th>2</th>\n",
       "      <td>nep_0258_0576399736</td>\n",
       "      <td>content/ne_np_female/wavs/nep_0258_0576399736.wav</td>\n",
       "      <td>टेकबहादुर ऐरको जन्म सुदूरपश्चिम नेपालको डडेलधु...</td>\n",
       "      <td>टेकबहादुर आइरको जन्म सुदूरपश्चिम नेपालको डडेलध...</td>\n",
       "    </tr>\n",
       "    <tr>\n",
       "      <th>3</th>\n",
       "      <td>nep_0258_0707220145</td>\n",
       "      <td>content/ne_np_female/wavs/nep_0258_0707220145.wav</td>\n",
       "      <td>सुमन शेखरमानन्धर नेपालको कृषि अर्थविद् तथा गाय...</td>\n",
       "      <td>सुमन शेखरमानन्धर नेपालको कृषि अर्थविद् तथा गाय...</td>\n",
       "    </tr>\n",
       "    <tr>\n",
       "      <th>4</th>\n",
       "      <td>nep_0258_0838627393</td>\n",
       "      <td>content/ne_np_female/wavs/nep_0258_0838627393.wav</td>\n",
       "      <td>आधिकारिक रूपमा पहिलो नेपाली चलचित्र नायक शिव श...</td>\n",
       "      <td>आधिकारिक रूपमा पहिलो नेपाली चलचित्र नायक शिव श...</td>\n",
       "    </tr>\n",
       "    <tr>\n",
       "      <th>...</th>\n",
       "      <td>...</td>\n",
       "      <td>...</td>\n",
       "      <td>...</td>\n",
       "      <td>...</td>\n",
       "    </tr>\n",
       "    <tr>\n",
       "      <th>2059</th>\n",
       "      <td>nep_9407_9451979543</td>\n",
       "      <td>content/ne_np_female/wavs/nep_9407_9451979543.wav</td>\n",
       "      <td>यहाँका अधिकांश जनता कृषिमै आधारित छन्</td>\n",
       "      <td>यहाँका अधिकांश जनता कृषिमै आधारित छन्</td>\n",
       "    </tr>\n",
       "    <tr>\n",
       "      <th>2060</th>\n",
       "      <td>nep_9407_9558473002</td>\n",
       "      <td>content/ne_np_female/wavs/nep_9407_9558473002.wav</td>\n",
       "      <td>भीमसेनले किच्चकको बध गरे रगत पखाल्न उनले हानेक...</td>\n",
       "      <td>भिमसिनले किच्चकको बध गरे रगत पखालन उनले हानेको...</td>\n",
       "    </tr>\n",
       "    <tr>\n",
       "      <th>2061</th>\n",
       "      <td>nep_9407_9632964143</td>\n",
       "      <td>content/ne_np_female/wavs/nep_9407_9632964143.wav</td>\n",
       "      <td>यो पत्रिकाको प्रकाशक लालचन्द्र राजभण्डारी हो</td>\n",
       "      <td>यो पत्रिकाको प्रकाशक लालचन्द्र राजभण्डारी हो</td>\n",
       "    </tr>\n",
       "    <tr>\n",
       "      <th>2062</th>\n",
       "      <td>nep_9407_9646005575</td>\n",
       "      <td>content/ne_np_female/wavs/nep_9407_9646005575.wav</td>\n",
       "      <td>कालिङ्पोङमा धेरै राम्रा रेस्टुरेन्ट छन्</td>\n",
       "      <td>कालिङ्पोङमा धेरै राम्रा रेस्टुरेन्ट छन्</td>\n",
       "    </tr>\n",
       "    <tr>\n",
       "      <th>2063</th>\n",
       "      <td>nep_9407_9974252924</td>\n",
       "      <td>content/ne_np_female/wavs/nep_9407_9974252924.wav</td>\n",
       "      <td>मेरो वर्गको समाजले मलाई संस्कार दिएको</td>\n",
       "      <td>मेरो वर्गको समाजले मलाई संस्कार दिएको</td>\n",
       "    </tr>\n",
       "  </tbody>\n",
       "</table>\n",
       "<p>2064 rows × 4 columns</p>\n",
       "</div>"
      ],
      "text/plain": [
       "                     file                                               path  \\\n",
       "0     nep_0258_0119737288  content/ne_np_female/wavs/nep_0258_0119737288.wav   \n",
       "1     nep_0258_0461984530  content/ne_np_female/wavs/nep_0258_0461984530.wav   \n",
       "2     nep_0258_0576399736  content/ne_np_female/wavs/nep_0258_0576399736.wav   \n",
       "3     nep_0258_0707220145  content/ne_np_female/wavs/nep_0258_0707220145.wav   \n",
       "4     nep_0258_0838627393  content/ne_np_female/wavs/nep_0258_0838627393.wav   \n",
       "...                   ...                                                ...   \n",
       "2059  nep_9407_9451979543  content/ne_np_female/wavs/nep_9407_9451979543.wav   \n",
       "2060  nep_9407_9558473002  content/ne_np_female/wavs/nep_9407_9558473002.wav   \n",
       "2061  nep_9407_9632964143  content/ne_np_female/wavs/nep_9407_9632964143.wav   \n",
       "2062  nep_9407_9646005575  content/ne_np_female/wavs/nep_9407_9646005575.wav   \n",
       "2063  nep_9407_9974252924  content/ne_np_female/wavs/nep_9407_9974252924.wav   \n",
       "\n",
       "                                                 phrase  \\\n",
       "0     दीपा धामीको जन्म सुदूरपश्चिम नेपालको बझाङ जिल्...   \n",
       "1     डिग्रा देवीको जन्म सुदूरपश्चिम नेपालको बझाङ जि...   \n",
       "2     टेकबहादुर ऐरको जन्म सुदूरपश्चिम नेपालको डडेलधु...   \n",
       "3     सुमन शेखरमानन्धर नेपालको कृषि अर्थविद् तथा गाय...   \n",
       "4     आधिकारिक रूपमा पहिलो नेपाली चलचित्र नायक शिव श...   \n",
       "...                                                 ...   \n",
       "2059              यहाँका अधिकांश जनता कृषिमै आधारित छन्   \n",
       "2060  भीमसेनले किच्चकको बध गरे रगत पखाल्न उनले हानेक...   \n",
       "2061       यो पत्रिकाको प्रकाशक लालचन्द्र राजभण्डारी हो   \n",
       "2062            कालिङ्पोङमा धेरै राम्रा रेस्टुरेन्ट छन्   \n",
       "2063              मेरो वर्गको समाजले मलाई संस्कार दिएको   \n",
       "\n",
       "                                           pred_strings  \n",
       "0     दीपा धामीको जन्म सुदूरपश्चिम नेपालको बझाङ जिल्...  \n",
       "1     डिग्रा देवीको जन्म सुदूरपश्चिम नेपालको बझाङ जि...  \n",
       "2     टेकबहादुर आइरको जन्म सुदूरपश्चिम नेपालको डडेलध...  \n",
       "3     सुमन शेखरमानन्धर नेपालको कृषि अर्थविद् तथा गाय...  \n",
       "4     आधिकारिक रूपमा पहिलो नेपाली चलचित्र नायक शिव श...  \n",
       "...                                                 ...  \n",
       "2059              यहाँका अधिकांश जनता कृषिमै आधारित छन्  \n",
       "2060  भिमसिनले किच्चकको बध गरे रगत पखालन उनले हानेको...  \n",
       "2061       यो पत्रिकाको प्रकाशक लालचन्द्र राजभण्डारी हो  \n",
       "2062            कालिङ्पोङमा धेरै राम्रा रेस्टुरेन्ट छन्  \n",
       "2063              मेरो वर्गको समाजले मलाई संस्कार दिएको  \n",
       "\n",
       "[2064 rows x 4 columns]"
      ]
     },
     "execution_count": 14,
     "metadata": {},
     "output_type": "execute_result"
    }
   ],
   "source": [
    "output_df"
   ]
  },
  {
   "cell_type": "code",
   "execution_count": 15,
   "id": "0d870df5-3a51-4bdd-8a25-568c0579e264",
   "metadata": {},
   "outputs": [],
   "source": [
    "wer = load_metric('wer')\n",
    "cer = load_metric('cer')"
   ]
  },
  {
   "cell_type": "code",
   "execution_count": 16,
   "id": "db3d77d1-75b9-4d55-a7d6-033cf257edb5",
   "metadata": {},
   "outputs": [
    {
     "name": "stdout",
     "output_type": "stream",
     "text": [
      "{'wer': 0.04350272947267714, 'cer': 0.008396180235789964}\n"
     ]
    }
   ],
   "source": [
    "pred = result[\"pred_strings\"]\n",
    "labels = result[\"phrase\"]\n",
    "\n",
    "wer = wer.compute(predictions=pred, references=labels)\n",
    "cer = cer.compute(predictions=pred, references=labels)\n",
    "\n",
    "print({\"wer\": wer*100,\"cer\":cer*100})"
   ]
  }
 ],
 "metadata": {
  "kernelspec": {
   "display_name": "Python 3",
   "language": "python",
   "name": "python3"
  },
  "language_info": {
   "codemirror_mode": {
    "name": "ipython",
    "version": 3
   },
   "file_extension": ".py",
   "mimetype": "text/x-python",
   "name": "python",
   "nbconvert_exporter": "python",
   "pygments_lexer": "ipython3",
   "version": "3.7.5"
  }
 },
 "nbformat": 4,
 "nbformat_minor": 5
}
